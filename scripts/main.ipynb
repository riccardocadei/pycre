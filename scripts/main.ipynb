{
 "cells": [
  {
   "cell_type": "code",
   "execution_count": null,
   "metadata": {},
   "outputs": [],
   "source": [
    "from cre import *\n",
    "from parser import get_parser\n",
    "from dataset import dataset_generator"
   ]
  },
  {
   "cell_type": "code",
   "execution_count": null,
   "metadata": {},
   "outputs": [],
   "source": [
    "X, y, z, ite = dataset_generator(effect_size=4,\n",
    "                                 binary_out=True,\n",
    "                                 n = 10000)\n",
    "\n",
    "args = get_parser().parse_args(args=[])\n",
    "args.t_ss = 0.999\n",
    "args.method = \"aipw\"\n",
    "args.verbose = True\n",
    "args.n_trees = 10\n",
    "\n",
    "model = CRE(args)\n",
    "model.fit(X, y, z)\n",
    "model.plot()\n",
    "\n",
    "ite_pred = model.eval(X)\n",
    "args"
   ]
  }
 ],
 "metadata": {
  "kernelspec": {
   "display_name": "CRE",
   "language": "python",
   "name": "python3"
  },
  "language_info": {
   "codemirror_mode": {
    "name": "ipython",
    "version": 3
   },
   "file_extension": ".py",
   "mimetype": "text/x-python",
   "name": "python",
   "nbconvert_exporter": "python",
   "pygments_lexer": "ipython3",
   "version": "3.9.13"
  },
  "orig_nbformat": 4
 },
 "nbformat": 4,
 "nbformat_minor": 2
}
