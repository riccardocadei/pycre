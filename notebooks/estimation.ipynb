{
 "cells": [
  {
   "cell_type": "code",
   "execution_count": null,
   "metadata": {},
   "outputs": [],
   "source": [
    "import numpy as np\n",
    "import pandas as pd\n",
    "\n",
    "from parser import get_parser\n",
    "from dataset import dataset_generator\n",
    "from cre import CRE\n",
    "from ite import estimate_ite\n",
    "\n",
    "import seaborn as sns\n",
    "import matplotlib.pyplot as plt\n",
    "\n",
    "from tqdm import tqdm"
   ]
  },
  {
   "attachments": {},
   "cell_type": "markdown",
   "metadata": {},
   "source": [
    "# Simulations"
   ]
  },
  {
   "cell_type": "code",
   "execution_count": null,
   "metadata": {},
   "outputs": [],
   "source": [
    "# settings\n",
    "N = 2000\n",
    "t_ss = 0.9\n",
    "effect_size = 5\n",
    "n_seeds = 10\n",
    "methods = [\"tlearner\", \"slearner\", \"xlearner\",\"causalforest\", \"drlearner\", \"aipw\"]"
   ]
  },
  {
   "cell_type": "code",
   "execution_count": null,
   "metadata": {},
   "outputs": [],
   "source": [
    "result = pd.DataFrame(columns = ['estimator','seed','bias', 'RMSE'])\n",
    "for method in tqdm(methods):\n",
    "    for seed in range(n_seeds):\n",
    "        X, y, z, ite = dataset_generator(n = N, \n",
    "                                         k = 10, \n",
    "                                         binary_cov = True,\n",
    "                                         binary_out = False, \n",
    "                                         effect_size = effect_size,\n",
    "                                         confounding = \"no\",\n",
    "                                         n_rules = 2,\n",
    "                                         seed = seed)\n",
    "        args = get_parser().parse_args(args=[])\n",
    "        args.verbose = False\n",
    "        args.method = method\n",
    "        args.t_ss = t_ss\n",
    "        args.seed = seed\n",
    "\n",
    "        model = CRE(args)\n",
    "        model.fit(X, y, z)\n",
    "        ite_pred = model.eval(X)\n",
    "        bias = np.mean(ite - ite_pred)\n",
    "        RMSE = np.sqrt(np.mean((ite - ite_pred)**2))\n",
    "        result = result.append({'estimator': \"CRE (\"+method+\")\",\n",
    "                                'seed': seed, \n",
    "                                'bias': bias, \n",
    "                                'RMSE': RMSE}, \n",
    "                                ignore_index=True)\n",
    "\n",
    "        ite_pred = estimate_ite(X, y, z,\n",
    "                                method = method,\n",
    "                                learner_y = args.learner_y,\n",
    "                                learner_ps = args.learner_ps)\n",
    "        bias = np.mean(np.abs(ite - ite_pred))\n",
    "        RMSE = np.sqrt(np.mean((ite - ite_pred)**2))\n",
    "        result = result.append({'estimator': method,\n",
    "                                'seed': seed, \n",
    "                                'bias': bias, \n",
    "                                'RMSE': RMSE}, \n",
    "                                ignore_index=True)\n",
    "result"
   ]
  },
  {
   "cell_type": "code",
   "execution_count": null,
   "metadata": {},
   "outputs": [],
   "source": [
    "# group by estimator\n",
    "result.groupby('estimator').mean()"
   ]
  }
 ],
 "metadata": {
  "kernelspec": {
   "display_name": "CRE",
   "language": "python",
   "name": "python3"
  },
  "language_info": {
   "codemirror_mode": {
    "name": "ipython",
    "version": 3
   },
   "file_extension": ".py",
   "mimetype": "text/x-python",
   "name": "python",
   "nbconvert_exporter": "python",
   "pygments_lexer": "ipython3",
   "version": "3.9.13"
  },
  "orig_nbformat": 4
 },
 "nbformat": 4,
 "nbformat_minor": 2
}
