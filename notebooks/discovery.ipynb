{
 "cells": [
  {
   "cell_type": "code",
   "execution_count": null,
   "metadata": {},
   "outputs": [],
   "source": [
    "import sys\n",
    "sys.path.insert(0, \"../pycre/\")\n",
    "\n",
    "from cre import *\n",
    "from parsers import get_parser\n",
    "from dataset import dataset_generator\n",
    "\n",
    "import numpy as np\n",
    "import pandas as pd\n",
    "\n",
    "import seaborn as sns\n",
    "import matplotlib.pyplot as plt\n",
    "\n",
    "from tqdm import tqdm"
   ]
  },
  {
   "attachments": {},
   "cell_type": "markdown",
   "metadata": {},
   "source": [
    "# Simulations"
   ]
  },
  {
   "cell_type": "code",
   "execution_count": null,
   "metadata": {},
   "outputs": [],
   "source": [
    "# settings\n",
    "effect_sizes = np.arange(0, 4, 0.2)\n",
    "N = 2000\n",
    "t_ss = 0.5\n",
    "n_seeds = 10\n",
    "methods = [\"tlearner\", \"slearner\", \"xlearner\",\"causalforest\", \"drlearner\", \"aipw\"]\n",
    "\n",
    "# ground truth\n",
    "rules = [\"(X['x1']>0.5) & (X['x2']<=0.5)\", \"(X['x5']>0.5) & (X['x6']<=0.5)\"]"
   ]
  },
  {
   "cell_type": "code",
   "execution_count": null,
   "metadata": {},
   "outputs": [],
   "source": [
    "result = pd.DataFrame(columns = ['estimator','effect_size','seed','recall', 'precision', 'f1_score'])\n",
    "for method in tqdm(methods):\n",
    "    for effect_size in effect_sizes:\n",
    "        for seed in range(n_seeds):\n",
    "            X, y, z, ite = dataset_generator(N = N, \n",
    "                                             P = 10, \n",
    "                                             binary_cov = True,\n",
    "                                             binary_out = False, \n",
    "                                             effect_size = effect_size,\n",
    "                                             confounding = \"no\",\n",
    "                                             M = 2,\n",
    "                                             seed = seed)\n",
    "\n",
    "            model = CRE(verbose = False,\n",
    "                        method = method,\n",
    "                        t_ss = t_ss,\n",
    "                        seed = seed,)\n",
    "            model.fit(X, y, z)\n",
    "            rules_pred = model.rules\n",
    "            TP = len(set(rules_pred).intersection(set(rules)))\n",
    "            FP = len(set(rules_pred).difference(set(rules)))\n",
    "            FN = len(set(rules).difference(set(rules_pred)))\n",
    "            recall = TP/(TP+FN)\n",
    "            if (TP+FP)>0:\n",
    "                precision = TP/(TP+FP)\n",
    "            else: \n",
    "                precision = 0\n",
    "            F1 = 2*TP/(2*TP+FP+FN)\n",
    "            result = result.append({'estimator': method,\n",
    "                                    'effect_size': effect_size,\n",
    "                                    'seed': seed, \n",
    "                                    'recall': recall, \n",
    "                                    'precision': precision, \n",
    "                                    'f1_score': F1}, \n",
    "                                    ignore_index=True)\n",
    "result"
   ]
  },
  {
   "attachments": {},
   "cell_type": "markdown",
   "metadata": {},
   "source": [
    "# Visulization"
   ]
  },
  {
   "cell_type": "code",
   "execution_count": null,
   "metadata": {},
   "outputs": [],
   "source": [
    "fig, axes = plt.subplots(3, 1, figsize=(10, 15), sharey=True)\n",
    "sns.set_theme(style=\"whitegrid\")\n",
    "sns.lineplot(ax=axes[0], x=\"effect_size\", y=\"recall\", hue=\"estimator\", data=result)\n",
    "axes[0].set_ylabel(\"Recall\")\n",
    "axes[0].set_xlabel(\"Effect size\")\n",
    "sns.lineplot(ax=axes[1], x=\"effect_size\", y=\"precision\", hue=\"estimator\", data=result)\n",
    "axes[1].set_ylabel(\"Precision\")\n",
    "axes[1].set_xlabel(\"Effect size\")\n",
    "sns.lineplot(ax=axes[2], x=\"effect_size\", y=\"f1_score\", hue=\"estimator\", data=result)\n",
    "axes[2].set_ylabel(\"F1 score\")\n",
    "axes[2].set_xlabel(\"Effect size\")\n",
    "plt.show()"
   ]
  }
 ],
 "metadata": {
  "kernelspec": {
   "display_name": "CRE",
   "language": "python",
   "name": "python3"
  },
  "language_info": {
   "codemirror_mode": {
    "name": "ipython",
    "version": 3
   },
   "file_extension": ".py",
   "mimetype": "text/x-python",
   "name": "python",
   "nbconvert_exporter": "python",
   "pygments_lexer": "ipython3",
   "version": "3.9.13"
  },
  "orig_nbformat": 4
 },
 "nbformat": 4,
 "nbformat_minor": 2
}
