{
 "cells": [
  {
   "cell_type": "code",
   "execution_count": null,
   "metadata": {},
   "outputs": [],
   "source": [
    "import sys\n",
    "sys.path.insert(0, \"../pycre/\")\n",
    "\n",
    "import time\n",
    "\n",
    "from cre import *\n",
    "from parsers import get_parser\n",
    "from dataset import dataset_generator"
   ]
  },
  {
   "cell_type": "code",
   "execution_count": 7,
   "metadata": {},
   "outputs": [
    {
     "name": "stderr",
     "output_type": "stream",
     "text": [
      "usage: ipykernel_launcher.py [-h] [--seed SEED] [--ratio_dis RATIO_DIS]\n",
      "                             [--n_trees N_TREES] [--max_depth MAX_DEPTH]\n",
      "                             [--node_size NODE_SIZE] [--max_rules MAX_RULES]\n",
      "                             [--criterion CRITERION] [--decimal DECIMAL]\n",
      "                             [--t_ext T_EXT] [--t_corr T_CORR] [--t_ss T_SS]\n",
      "                             [--alphas ALPHAS] [--B B] [--subsample SUBSAMPLE]\n",
      "                             [--learner_y LEARNER_Y] [--learner_ps LEARNER_PS]\n",
      "                             [--method METHOD] [--exp_name EXP_NAME]\n",
      "                             [--verbose VERBOSE] [--path PATH] [--save SAVE]\n",
      "                             [--xrange XRANGE]\n",
      "ipykernel_launcher.py: error: unrecognized arguments: --ip=127.0.0.1 --stdin=9003 --control=9001 --hb=9000 --Session.signature_scheme=\"hmac-sha256\" --Session.key=b\"e16d0d5d-2161-4a24-9722-64fb6c7fed50\" --shell=9002 --transport=\"tcp\" --iopub=9004 --f=/Users/riccardocadei/Library/Jupyter/runtime/kernel-v2-85181O621JcIUwuPn.json\n"
     ]
    },
    {
     "ename": "SystemExit",
     "evalue": "2",
     "output_type": "error",
     "traceback": [
      "An exception has occurred, use %tb to see the full traceback.\n",
      "\u001b[0;31mSystemExit\u001b[0m\u001b[0;31m:\u001b[0m 2\n"
     ]
    }
   ],
   "source": [
    "args = get_parser().parse_args(args=[])\n",
    "\n",
    "data_sizes = np.logspace(2, 3, 10).astype(int)\n",
    "times = []\n",
    "for n in data_sizes:\n",
    "    print(n)\n",
    "    start_time = time.time()\n",
    "    X, y, z, ite = dataset_generator(effect_size=5,\n",
    "                                    n_rules = 2,\n",
    "                                    binary_out=False,\n",
    "                                    n = n)\n",
    "    args.verbose = False\n",
    "\n",
    "    model = CRE(args)\n",
    "    model.fit(X, y, z)\n",
    "    end_time = time.time()\n",
    "\n",
    "    execution_time = end_time - start_time\n",
    "    print(f\"Execution time: {execution_time} seconds\")\n",
    "    times.append(execution_time)"
   ]
  },
  {
   "cell_type": "code",
   "execution_count": null,
   "metadata": {},
   "outputs": [],
   "source": [
    "python_times = times\n",
    "# compute in R \n",
    "R_times = [11.70290,  10.01399,  10.61894,  12.25200,  16.35832,  28.50032,  51.95816, 119.32511, 314.55477,  844.31094]"
   ]
  },
  {
   "cell_type": "code",
   "execution_count": null,
   "metadata": {},
   "outputs": [],
   "source": [
    "import matplotlib.pyplot as plt\n",
    "\n",
    "plt.figure(figsize=(10, 5))\n",
    "plt.plot(data_sizes, python_times)\n",
    "plt.plot(data_sizes, R_times)\n",
    "plt.xlabel(\"Number of Individuals (n)\")\n",
    "plt.ylabel(\"Execution time (seconds)\")\n",
    "plt.xscale(\"log\")\n",
    "#plt.yscale(\"log\")\n",
    "yticks = np.arange(0, 1000, 100)\n",
    "plt.yticks(yticks, yticks)\n",
    "plt.legend([\"Python\", \"R\"]);"
   ]
  }
 ],
 "metadata": {
  "kernelspec": {
   "display_name": "CRE",
   "language": "python",
   "name": "python3"
  },
  "language_info": {
   "codemirror_mode": {
    "name": "ipython",
    "version": 3
   },
   "file_extension": ".py",
   "mimetype": "text/x-python",
   "name": "python",
   "nbconvert_exporter": "python",
   "pygments_lexer": "ipython3",
   "version": "3.9.13"
  },
  "orig_nbformat": 4
 },
 "nbformat": 4,
 "nbformat_minor": 2
}
