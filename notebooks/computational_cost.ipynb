{
 "cells": [
  {
   "cell_type": "code",
   "execution_count": null,
   "metadata": {},
   "outputs": [],
   "source": [
    "import sys\n",
    "sys.path.insert(0, \"../pycre/\")\n",
    "\n",
    "import matplotlib.pyplot as plt\n",
    "import seaborn as sns\n",
    "\n",
    "import time\n",
    "import numpy as np\n",
    "import pandas as pd\n",
    "\n",
    "from cre import *\n",
    "from parsers import get_parser\n",
    "from dataset import dataset_generator"
   ]
  },
  {
   "attachments": {},
   "cell_type": "markdown",
   "metadata": {},
   "source": [
    "# Simulations"
   ]
  },
  {
   "cell_type": "code",
   "execution_count": null,
   "metadata": {},
   "outputs": [],
   "source": [
    "computation_time = pd.DataFrame(columns = [\"B\", \"seed\", \"n\", \"time\"])\n",
    "\n",
    "for B in [1,10,100]:\n",
    "    print(f\"B: {B}\")\n",
    "    for seed in [1,2,3,4]:\n",
    "        np.random.seed(seed)\n",
    "        print(f\"Seed: {seed}\")\n",
    "        for n in np.logspace(2, 6, 10).astype(int):\n",
    "            print(f\"Data Size: {n}\")\n",
    "            X, y, z, ite = dataset_generator(effect_size = 5,\n",
    "                                            M = 2,\n",
    "                                            binary_out = False,\n",
    "                                            N = n)\n",
    "\n",
    "            start_time = time.time()\n",
    "            model = CRE(verbose = False)\n",
    "            model.fit(X, y, z)\n",
    "            end_time = time.time()\n",
    "\n",
    "            execution_time = end_time - start_time\n",
    "            print(f\"Execution time: {execution_time} seconds\")\n",
    "            # add a row to a dataframe\n",
    "            computation_time = computation_time.append({\"B\": B,\n",
    "                                                        \"seed\": seed,\n",
    "                                                        \"n\": n,\n",
    "                                                        \"time\": execution_time}, \n",
    "                                                        ignore_index = True)\n",
    "\n",
    "computation_time.to_csv(\"../results/computation_time_py.csv\", index = False)"
   ]
  },
  {
   "attachments": {},
   "cell_type": "markdown",
   "metadata": {},
   "source": [
    "# Comparison Python vs R"
   ]
  },
  {
   "cell_type": "code",
   "execution_count": null,
   "metadata": {},
   "outputs": [],
   "source": [
    "computation_time_py = pd.read_csv(\"../results/computation_time_py.csv\")\n",
    "computation_time_R = pd.read_csv(\"../results/computation_time_R.csv\")"
   ]
  },
  {
   "cell_type": "code",
   "execution_count": null,
   "metadata": {},
   "outputs": [],
   "source": [
    "B = 100\n",
    "computation_time_py_B = computation_time_py[computation_time_py[\"B\"] == B]\n",
    "computation_time_R_B = computation_time_R[computation_time_R[\"B\"] == B]\n",
    "\n",
    "plt.figure(figsize=(8, 4))\n",
    "sns.lineplot(x = \"n\", y = \"time\", data = computation_time_py_B, ci = 100, label = \"Python\")\n",
    "sns.lineplot(x = \"n\", y = \"time\", data = computation_time_R_B, ci = 100, label = \"R\")\n",
    "plt.title(f\"Computation time (B = {B})\")\n",
    "plt.xlabel(\"Number of Individuals (n)\")\n",
    "plt.ylabel(\"Execution time (seconds)\")\n",
    "plt.xscale(\"log\")\n",
    "plt.yscale(\"log\")\n",
    "#yticks = np.arange(0, 5000, 400)\n",
    "#plt.yticks(yticks, yticks);"
   ]
  },
  {
   "attachments": {},
   "cell_type": "markdown",
   "metadata": {},
   "source": [
    "# JOSS paper"
   ]
  },
  {
   "cell_type": "code",
   "execution_count": null,
   "metadata": {},
   "outputs": [],
   "source": [
    "computation_time_JOSS = pd.read_csv(\"../results/computation_time_JOSS.csv\")\n",
    "computation_time_JOSS"
   ]
  },
  {
   "cell_type": "code",
   "execution_count": null,
   "metadata": {},
   "outputs": [],
   "source": [
    "computation_time_JOSS_p5 = computation_time_JOSS[computation_time_JOSS[\"p\"] == 5]\n",
    "computation_time_JOSS_p10 = computation_time_JOSS[computation_time_JOSS[\"p\"] == 10]\n",
    "computation_time_JOSS_p50 = computation_time_JOSS[computation_time_JOSS[\"p\"] == 50]\n",
    "\n",
    "plt.figure(figsize=(8, 4))\n",
    "sns.lineplot(x = \"n\", y = \"time\", data = computation_time_JOSS_p5, ci = \"sd\", label = \"5\")\n",
    "sns.lineplot(x = \"n\", y = \"time\", data = computation_time_JOSS_p10, ci = \"sd\", label = \"10\")\n",
    "sns.lineplot(x = \"n\", y = \"time\", data = computation_time_JOSS_p50, ci = \"sd\", label = \"50\")\n",
    "#plt.title(f\"Computation time\")\n",
    "plt.xlabel(\"Number of Individuals (n)\")\n",
    "plt.ylabel(\"Execution time (seconds)\")\n",
    "plt.xscale(\"log\")\n",
    "plt.yscale(\"log\")\n",
    "plt.legend(title = \"N. Covariates\");\n",
    "#yticks = np.arange(0, 5000, 400)\n",
    "#plt.yticks(yticks, yticks);\n",
    "#plt.savefig(\"computation_time_JOSS.pdf\", bbox_inches='tight', pad_inches=0, format='pdf')\n"
   ]
  }
 ],
 "metadata": {
  "kernelspec": {
   "display_name": "CRE",
   "language": "python",
   "name": "python3"
  },
  "language_info": {
   "codemirror_mode": {
    "name": "ipython",
    "version": 3
   },
   "file_extension": ".py",
   "mimetype": "text/x-python",
   "name": "python",
   "nbconvert_exporter": "python",
   "pygments_lexer": "ipython3",
   "version": "3.9.13"
  },
  "orig_nbformat": 4
 },
 "nbformat": 4,
 "nbformat_minor": 2
}
