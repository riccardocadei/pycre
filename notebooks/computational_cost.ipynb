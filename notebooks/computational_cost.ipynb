{
 "cells": [
  {
   "cell_type": "code",
   "execution_count": null,
   "metadata": {},
   "outputs": [],
   "source": [
    "import numpy as np\n",
    "import time\n",
    "\n",
    "import sys\n",
    "sys.path.insert(0, \"../scripts/\")\n",
    "\n",
    "from cre import *\n",
    "from parsers import get_parser\n",
    "from dataset import dataset_generator\n",
    "\n",
    "args = get_parser().parse_args(args=[])\n",
    "\n",
    "data_sizes = np.logspace(2, 3, 10).astype(int)\n",
    "times = []\n",
    "for n in data_sizes:\n",
    "    print(n)\n",
    "    start_time = time.time()\n",
    "    X, y, z, ite = dataset_generator(effect_size=5,\n",
    "                                    n_rules = 2,\n",
    "                                    binary_out=False,\n",
    "                                    n = n)\n",
    "    args.verbose = False\n",
    "\n",
    "    model = CRE(args)\n",
    "    model.fit(X, y, z)\n",
    "    end_time = time.time()\n",
    "\n",
    "    execution_time = end_time - start_time\n",
    "    print(f\"Execution time: {execution_time} seconds\")\n",
    "    times.append(execution_time)"
   ]
  },
  {
   "cell_type": "code",
   "execution_count": null,
   "metadata": {},
   "outputs": [],
   "source": [
    "python_times = times\n",
    "# compute in R \n",
    "R_times = [11.70290,  10.01399,  10.61894,  12.25200,  16.35832,  28.50032,  51.95816, 119.32511, 314.55477,  844.31094]"
   ]
  },
  {
   "cell_type": "code",
   "execution_count": null,
   "metadata": {},
   "outputs": [],
   "source": [
    "import matplotlib.pyplot as plt\n",
    "\n",
    "plt.figure(figsize=(10, 5))\n",
    "plt.plot(data_sizes, python_times)\n",
    "plt.plot(data_sizes, R_times)\n",
    "plt.xlabel(\"Number of Individuals (n)\")\n",
    "plt.ylabel(\"Execution time (seconds)\")\n",
    "plt.xscale(\"log\")\n",
    "#plt.yscale(\"log\")\n",
    "yticks = np.arange(0, 1000, 100)\n",
    "plt.yticks(yticks, yticks)\n",
    "plt.legend([\"Python\", \"R\"]);"
   ]
  }
 ],
 "metadata": {
  "kernelspec": {
   "display_name": "CRE",
   "language": "python",
   "name": "python3"
  },
  "language_info": {
   "codemirror_mode": {
    "name": "ipython",
    "version": 3
   },
   "file_extension": ".py",
   "mimetype": "text/x-python",
   "name": "python",
   "nbconvert_exporter": "python",
   "pygments_lexer": "ipython3",
   "version": "3.9.13"
  },
  "orig_nbformat": 4
 },
 "nbformat": 4,
 "nbformat_minor": 2
}
