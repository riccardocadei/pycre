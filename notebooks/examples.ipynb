{
 "cells": [
  {
   "cell_type": "code",
   "execution_count": null,
   "metadata": {},
   "outputs": [],
   "source": [
    "import sys\n",
    "sys.path.insert(0, \"../pycre/\")\n",
    "\n",
    "from sklearn.ensemble import GradientBoostingClassifier\n",
    "\n",
    "from cre import *\n",
    "from parsers import get_parser\n",
    "from dataset import dataset_generator"
   ]
  },
  {
   "attachments": {},
   "cell_type": "markdown",
   "metadata": {},
   "source": [
    "# Binary Outcome"
   ]
  },
  {
   "attachments": {},
   "cell_type": "markdown",
   "metadata": {},
   "source": [
    "### 2 Rules\n",
    "\n",
    "Ground Truth: \n",
    "- **ATE**:  0.0\n",
    "- **x1>0 & x2<=0**: -1.0\n",
    "- **x5>0 & x6<=0**:  1.0"
   ]
  },
  {
   "cell_type": "code",
   "execution_count": null,
   "metadata": {},
   "outputs": [],
   "source": [
    "# Generate synthetic dataset\n",
    "X, y, z, ite = dataset_generator(N = 2000,\n",
    "                                 M = 2,\n",
    "                                 binary_out=True)"
   ]
  },
  {
   "cell_type": "code",
   "execution_count": null,
   "metadata": {},
   "outputs": [],
   "source": [
    "# Example 1: Baseline\n",
    "model = CRE()\n",
    "model.fit(X, y, z)\n",
    "model.visualize()"
   ]
  },
  {
   "cell_type": "code",
   "execution_count": null,
   "metadata": {},
   "outputs": [],
   "source": [
    "# Example 2: \n",
    "# - Use a different learner for outcome estimation (classification)\n",
    "# - Relax filtering, \n",
    "# - Increase N. sample in bootsraping,\n",
    "# - round rules' thresholds to 0 decimals\n",
    "\n",
    "model = CRE(learner_y = GradientBoostingClassifier(),\n",
    "            t_corr = 0.8, \n",
    "            B = 10,\n",
    "            decimal = 0)\n",
    "model.fit(X, y, z)\n",
    "model.visualize() # perfect discovery!"
   ]
  },
  {
   "cell_type": "code",
   "execution_count": null,
   "metadata": {},
   "outputs": [],
   "source": [
    "# save predictions\n",
    "ite_pred = model.eval(X)"
   ]
  },
  {
   "attachments": {},
   "cell_type": "markdown",
   "metadata": {},
   "source": [
    "### 2 Rules - variant with unobserved confounders\n",
    "\n",
    "Ground Truth: \n",
    "- **ATE**:  0.0\n",
    "- **x1>0 & x2<=0**: -1.0\n",
    "- **x5>0 & x6<=0**:  1.0"
   ]
  },
  {
   "cell_type": "code",
   "execution_count": null,
   "metadata": {},
   "outputs": [],
   "source": [
    "# Generate synthetic dataset\n",
    "X, y, z, ite = dataset_generator(N = 2000,\n",
    "                                 M = 2,\n",
    "                                 binary_out = True,\n",
    "                                 confounding = \"lin\")\n",
    "W = X.iloc[:,[2,3]]\n",
    "X = X.iloc[:,[0,1,4,5,6,7,8]]"
   ]
  },
  {
   "cell_type": "code",
   "execution_count": null,
   "metadata": {},
   "outputs": [],
   "source": [
    "model = CRE(learner_y = GradientBoostingClassifier(),\n",
    "            t_corr = 0.8, \n",
    "            B = 10,\n",
    "            decimal = 0)\n",
    "model.fit(X, y, z)\n",
    "model.visualize() # perfect discovery!"
   ]
  },
  {
   "cell_type": "code",
   "execution_count": null,
   "metadata": {},
   "outputs": [],
   "source": [
    "model = CRE(learner_y = GradientBoostingClassifier(),\n",
    "            t_corr = 0.8, \n",
    "            B = 10,\n",
    "            decimal = 0)\n",
    "model.fit(X, y, z, W) # also unconfounding\n",
    "model.visualize() # perfect discovery!"
   ]
  },
  {
   "attachments": {},
   "cell_type": "markdown",
   "metadata": {},
   "source": [
    "# Continuous Outcome"
   ]
  },
  {
   "attachments": {},
   "cell_type": "markdown",
   "metadata": {},
   "source": [
    "### 2 Rules\n",
    "\n",
    "Ground Truth: \n",
    "- **ATE**:  0.0\n",
    "- **x1>0 & x2<=0**: -2.0\n",
    "- **x5>0 & x6<=0**:  2.0"
   ]
  },
  {
   "cell_type": "code",
   "execution_count": null,
   "metadata": {},
   "outputs": [],
   "source": [
    "# Generate synthetic dataset\n",
    "X, y, z, ite = dataset_generator(N = 2000,\n",
    "                                 M = 2,\n",
    "                                 effect_size=2,\n",
    "                                 binary_out=False)"
   ]
  },
  {
   "cell_type": "code",
   "execution_count": null,
   "metadata": {},
   "outputs": [],
   "source": [
    "# Example 3: Baseline\n",
    "model = CRE()\n",
    "model.fit(X, y, z)\n",
    "model.visualize()"
   ]
  },
  {
   "cell_type": "code",
   "execution_count": null,
   "metadata": {},
   "outputs": [],
   "source": [
    "# Example 4: \n",
    "# - Increase N. sample in bootsraping,\n",
    "# - Increase heterogeneity in bootsrapping (reducing subsample), \n",
    "# - Relax filtering, \n",
    "# - round rules' thresholds to 0 decimals\n",
    "\n",
    "model = CRE(B = 50,\n",
    "            t_corr = 0.8,\n",
    "            subsample = 0.05,\n",
    "            decimal = 0)\n",
    "model.fit(X, y, z)\n",
    "model.visualize() # perfect discovery!"
   ]
  },
  {
   "cell_type": "code",
   "execution_count": null,
   "metadata": {},
   "outputs": [],
   "source": [
    "# save predictions\n",
    "ite_pred = model.eval(X)"
   ]
  },
  {
   "attachments": {},
   "cell_type": "markdown",
   "metadata": {},
   "source": [
    "### 4 Rules\n",
    "\n",
    "Ground Truth: \n",
    "- **ATE**:  0.0\n",
    "- **x1>0 & x2<=0**: -10.0\n",
    "- **x5>0 & x6<=0**:  10.0\n",
    "- **x4>0**: -5.0\n",
    "- **x5<=0 & x7>0 & x8<=0**: 20.0"
   ]
  },
  {
   "cell_type": "code",
   "execution_count": null,
   "metadata": {},
   "outputs": [],
   "source": [
    "# Generate synthetic dataset\n",
    "X, y, z, ite = dataset_generator(N = 5000,\n",
    "                                 M = 4,\n",
    "                                 effect_size=5,\n",
    "                                 binary_out=False)"
   ]
  },
  {
   "cell_type": "code",
   "execution_count": null,
   "metadata": {},
   "outputs": [],
   "source": [
    "# Example 5: Baseline\n",
    "model = CRE()\n",
    "model.fit(X, y, z)\n",
    "model.visualize()"
   ]
  },
  {
   "cell_type": "code",
   "execution_count": null,
   "metadata": {},
   "outputs": [],
   "source": [
    "# Example 6: \n",
    "# - Increase N. sample in bootsraping,\n",
    "# - Relax filtering, \n",
    "# - Stronger rules selection\n",
    "# - Increase heterogeneity in bootsrapping (reducing subsample), \n",
    "# - round rules' thresholds to 0 decimals\n",
    "# - Allow discovery for longer rules\n",
    "\n",
    "model = CRE(B = 50,\n",
    "            t_corr = 0.8,\n",
    "            t_ss = 0.9,\n",
    "            subsample = 0.05,\n",
    "            decimal = 0,\n",
    "            max_depth = 3)\n",
    "model.fit(X, y, z)\n",
    "model.visualize() # better discovery"
   ]
  },
  {
   "cell_type": "code",
   "execution_count": null,
   "metadata": {},
   "outputs": [],
   "source": [
    "# save predictions\n",
    "ite_pred = model.eval(X)"
   ]
  }
 ],
 "metadata": {
  "kernelspec": {
   "display_name": "CRE",
   "language": "python",
   "name": "python3"
  },
  "language_info": {
   "codemirror_mode": {
    "name": "ipython",
    "version": 3
   },
   "file_extension": ".py",
   "mimetype": "text/x-python",
   "name": "python",
   "nbconvert_exporter": "python",
   "pygments_lexer": "ipython3",
   "version": "3.9.13"
  },
  "orig_nbformat": 4
 },
 "nbformat": 4,
 "nbformat_minor": 2
}
